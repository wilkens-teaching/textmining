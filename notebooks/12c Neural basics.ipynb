{
 "cells": [
  {
   "cell_type": "markdown",
   "metadata": {},
   "source": [
    "# Basic neural network algorithm\n",
    "\n",
    "Perceptron, the simplest network, with no hidden layers. What we call `layer1` below is the output layer."
   ]
  },
  {
   "cell_type": "code",
   "execution_count": 10,
   "metadata": {},
   "outputs": [
    {
     "name": "stdout",
     "output_type": "stream",
     "text": [
      "Predictions after training\n",
      "[0 0]: 0\n",
      "[0 1]: 0\n",
      "[1 0]: 0\n",
      "[1 1]: 1\n"
     ]
    }
   ],
   "source": [
    "from random import choice\n",
    "import numpy as np\n",
    "np.random.seed(1)\n",
    "\n",
    "# Neuron activates if x is positive\n",
    "activation = lambda x: 0 if x < 0 else 1\n",
    "\n",
    "# 3D input data with labels\n",
    "training_data = [(np.array([0,0,1]), 0),\n",
    "                 (np.array([0,1,1]), 0),\n",
    "                 (np.array([1,0,1]), 0),\n",
    "                 (np.array([1,1,1]), 1),\n",
    "                ]\n",
    "\n",
    "# Model parameters\n",
    "learning_rate = 0.2 \n",
    "training_steps = 1000\n",
    "\n",
    "# Initialize weights to random 3D arrays\n",
    "# Values range from zero to one\n",
    "W = np.random.rand(3) \n",
    "\n",
    "# Perform the indicated number of training steps\n",
    "for i in range(training_steps):\n",
    "    \n",
    "    x, y = choice(training_data) # Pick one data element on which to train\n",
    "    \n",
    "    layer1 = np.dot(W, x)        # Compute the output weight\n",
    "    y_pred = activation(layer1)  # Pass output weight to activation, i.e., prediction\n",
    "    \n",
    "    error = y - y_pred           # Calculate amount of error (here, 0 or 1)\n",
    "    update = learning_rate * error * x # Calculate update weight\n",
    "    W += update                  # Update array of weights\n",
    "\n",
    "# Output after training\n",
    "print(\"Predictions after training\")\n",
    "for x, _ in training_data:\n",
    "    y_pred = np.dot(x, W)\n",
    "    print(\"{}: {}\".format(x[:2], activation(y_pred)))"
   ]
  },
  {
   "cell_type": "code",
   "execution_count": null,
   "metadata": {},
   "outputs": [],
   "source": []
  }
 ],
 "metadata": {
  "kernelspec": {
   "display_name": "Python 3",
   "language": "python",
   "name": "python3"
  },
  "language_info": {
   "codemirror_mode": {
    "name": "ipython",
    "version": 3
   },
   "file_extension": ".py",
   "mimetype": "text/x-python",
   "name": "python",
   "nbconvert_exporter": "python",
   "pygments_lexer": "ipython3",
   "version": "3.7.1"
  }
 },
 "nbformat": 4,
 "nbformat_minor": 2
}
